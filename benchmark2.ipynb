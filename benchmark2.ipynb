{
 "cells": [
  {
   "cell_type": "code",
   "execution_count": 98,
   "metadata": {},
   "outputs": [],
   "source": [
    "import os\n",
    "import numpy as np\n",
    "import pandas as pd\n",
    "import matplotlib.pyplot as plt\n",
    "import seaborn as sns\n",
    "\n",
    "from sklearn.svm import SVC\n",
    "from sklearn.linear_model import LogisticRegression\n",
    "from sklearn.neighbors import KNeighborsClassifier\n",
    "from sklearn.metrics import accuracy_score"
   ]
  },
  {
   "cell_type": "code",
   "execution_count": 22,
   "metadata": {},
   "outputs": [
    {
     "name": "stderr",
     "output_type": "stream",
     "text": [
      "/home/harveyaa/miniconda3/envs/MTL/lib/python3.7/site-packages/IPython/core/interactiveshell.py:3457: DtypeWarning: Columns (7,8,12,13,14,19,20,24,27,31,42,43,44,49,51,59,60,62,64,65,68,101,121,163) have mixed types.Specify dtype option on import or set low_memory=False.\n",
      "  exec(code_obj, self.user_global_ns, self.user_ns)\n"
     ]
    }
   ],
   "source": [
    "p_pheno = '/home/harveyaa/Documents/fMRI/data/ukbb_9cohorts/pheno_26-01-22.csv'\n",
    "p_conn = '/home/harveyaa/Documents/fMRI/data/ukbb_9cohorts/connectomes_01-12-21.csv'\n",
    "\n",
    "pheno = pd.read_csv(p_pheno,index_col=0)\n",
    "conn = pd.read_csv(p_conn,index_col=0)"
   ]
  },
  {
   "cell_type": "code",
   "execution_count": 23,
   "metadata": {},
   "outputs": [],
   "source": [
    "cases = ['SZ',\n",
    "        'ASD',\n",
    "        'BIP',\n",
    "        'DEL22q11_2',\n",
    "        'DUP22q11_2',\n",
    "        'DEL16p11_2',\n",
    "        'DUP16p11_2',\n",
    "        'DEL1q21_1',\n",
    "        'DUP1q21_1']\n",
    "\n",
    "conf = ['AGE',\n",
    "        'SEX',\n",
    "        'SITE',\n",
    "        'mean_conn',\n",
    "        'FD_scrubbed']"
   ]
  },
  {
   "cell_type": "code",
   "execution_count": 99,
   "metadata": {},
   "outputs": [
    {
     "name": "stdout",
     "output_type": "stream",
     "text": [
      "SZ\n",
      "N folds:  5\n",
      "Mean acc conf:  0.5255835018537244\n",
      "Mean acc conn:  0.549698769801146\n",
      "\n",
      "ASD\n",
      "N folds:  5\n",
      "Mean acc conf:  0.49822960597327004\n",
      "Mean acc conn:  0.5342253421246634\n",
      "\n",
      "BIP\n",
      "N folds:  5\n",
      "Mean acc conf:  0.5146543778801843\n",
      "Mean acc conn:  0.5060829493087557\n",
      "\n",
      "DEL22q11_2\n",
      "N folds:  5\n",
      "Mean acc conf:  0.532\n",
      "Mean acc conn:  0.54\n",
      "\n",
      "DUP22q11_2\n",
      "N folds:  5\n",
      "Mean acc conf:  0.5111111111111111\n",
      "Mean acc conn:  0.5444444444444445\n",
      "\n",
      "DEL16p11_2\n",
      "N folds:  5\n",
      "Mean acc conf:  0.5005494505494505\n",
      "Mean acc conn:  0.6545329670329669\n",
      "\n",
      "DUP16p11_2\n",
      "N folds:  5\n",
      "Mean acc conf:  0.5\n",
      "Mean acc conn:  0.50625\n",
      "\n",
      "DEL1q21_1\n",
      "N folds:  5\n",
      "Mean acc conf:  0.5181818181818182\n",
      "Mean acc conn:  0.5863636363636364\n",
      "\n",
      "DUP1q21_1\n",
      "N folds:  4\n",
      "Mean acc conf:  0.53125\n",
      "Mean acc conn:  0.4609375\n",
      "\n"
     ]
    }
   ],
   "source": [
    "p_ids = '/home/harveyaa/Documents/masters/MTL/conf_balancing/dataset_ids'\n",
    "\n",
    "#clf = SVC(C=100)\n",
    "#clf = SVC(C=10)\n",
    "#clf = SVC(C=1)\n",
    "#clf = LogisticRegression()\n",
    "clf = KNeighborsClassifier()\n",
    "\n",
    "mean_acc_conf = []\n",
    "mean_acc_conn = []\n",
    "for case in cases:\n",
    "    print(case)\n",
    "    dataset_ids = pd.read_csv(os.path.join(p_ids,f\"{case}.txt\"),header=None)[0].to_list()\n",
    "    df = pheno[pheno.index.isin(dataset_ids)]\n",
    "\n",
    "    X = pd.get_dummies(df[conf],columns=['SEX','SITE'],drop_first=True)\n",
    "    X_conn = conn[conn.index.isin(dataset_ids)]\n",
    "    y = df[case]\n",
    "\n",
    "    acc_conf = []\n",
    "    acc_conn = []\n",
    "    acc_both = []\n",
    "\n",
    "    n_folds = 0\n",
    "    for i in range(5):\n",
    "        if os.path.exists(os.path.join(p_ids,f\"{case}_test_set_{i}.txt\")):\n",
    "            # LOAD IDS\n",
    "            fold_test_ids = pd.read_csv(os.path.join(p_ids,f\"{case}_test_set_{i}.txt\"),header=None)[0].to_list()\n",
    "            test_mask = df.index.isin(fold_test_ids)\n",
    "\n",
    "            # TRAIN/TEST SPLIT\n",
    "            X_train, X_test = X[~test_mask], X[test_mask]\n",
    "            X_conn_train, X_conn_test = X_conn[~test_mask], X_conn[test_mask]\n",
    "            y_train, y_test = y[~test_mask], y[test_mask]\n",
    "\n",
    "            \n",
    "            # PRED FROM CONFOUNDS\n",
    "            clf.fit(X_train,y_train)\n",
    "            pred = clf.predict(X_test)\n",
    "            acc_conf.append(accuracy_score(y_test,pred))\n",
    "\n",
    "            # PRED FROM CONNECTOMES\n",
    "            clf.fit(X_conn_train,y_train)\n",
    "            pred_conn = clf.predict(X_conn_test)\n",
    "            acc_conn.append(accuracy_score(y_test,pred_conn))\n",
    "            n_folds +=1\n",
    "\n",
    "    mean_acc_conf.append(np.mean(acc_conf))\n",
    "    mean_acc_conn.append(np.mean(acc_conn))\n",
    "    print('N folds: ',n_folds)\n",
    "    #print('Chance level: ',np.sum(y_test)/len(y_test))\n",
    "    print('Mean acc conf: ', np.mean(acc_conf))\n",
    "    print('Mean acc conn: ', np.mean(acc_conn))\n",
    "    print()"
   ]
  },
  {
   "cell_type": "code",
   "execution_count": 100,
   "metadata": {},
   "outputs": [
    {
     "data": {
      "text/html": [
       "<div>\n",
       "<style scoped>\n",
       "    .dataframe tbody tr th:only-of-type {\n",
       "        vertical-align: middle;\n",
       "    }\n",
       "\n",
       "    .dataframe tbody tr th {\n",
       "        vertical-align: top;\n",
       "    }\n",
       "\n",
       "    .dataframe thead th {\n",
       "        text-align: right;\n",
       "    }\n",
       "</style>\n",
       "<table border=\"1\" class=\"dataframe\">\n",
       "  <thead>\n",
       "    <tr style=\"text-align: right;\">\n",
       "      <th></th>\n",
       "      <th>conf</th>\n",
       "      <th>conn</th>\n",
       "    </tr>\n",
       "  </thead>\n",
       "  <tbody>\n",
       "    <tr>\n",
       "      <th>SZ</th>\n",
       "      <td>0.525584</td>\n",
       "      <td>0.549699</td>\n",
       "    </tr>\n",
       "    <tr>\n",
       "      <th>ASD</th>\n",
       "      <td>0.498230</td>\n",
       "      <td>0.534225</td>\n",
       "    </tr>\n",
       "    <tr>\n",
       "      <th>BIP</th>\n",
       "      <td>0.514654</td>\n",
       "      <td>0.506083</td>\n",
       "    </tr>\n",
       "    <tr>\n",
       "      <th>DEL22q11_2</th>\n",
       "      <td>0.532000</td>\n",
       "      <td>0.540000</td>\n",
       "    </tr>\n",
       "    <tr>\n",
       "      <th>DUP22q11_2</th>\n",
       "      <td>0.511111</td>\n",
       "      <td>0.544444</td>\n",
       "    </tr>\n",
       "    <tr>\n",
       "      <th>DEL16p11_2</th>\n",
       "      <td>0.500549</td>\n",
       "      <td>0.654533</td>\n",
       "    </tr>\n",
       "    <tr>\n",
       "      <th>DUP16p11_2</th>\n",
       "      <td>0.500000</td>\n",
       "      <td>0.506250</td>\n",
       "    </tr>\n",
       "    <tr>\n",
       "      <th>DEL1q21_1</th>\n",
       "      <td>0.518182</td>\n",
       "      <td>0.586364</td>\n",
       "    </tr>\n",
       "    <tr>\n",
       "      <th>DUP1q21_1</th>\n",
       "      <td>0.531250</td>\n",
       "      <td>0.460938</td>\n",
       "    </tr>\n",
       "  </tbody>\n",
       "</table>\n",
       "</div>"
      ],
      "text/plain": [
       "                conf      conn\n",
       "SZ          0.525584  0.549699\n",
       "ASD         0.498230  0.534225\n",
       "BIP         0.514654  0.506083\n",
       "DEL22q11_2  0.532000  0.540000\n",
       "DUP22q11_2  0.511111  0.544444\n",
       "DEL16p11_2  0.500549  0.654533\n",
       "DUP16p11_2  0.500000  0.506250\n",
       "DEL1q21_1   0.518182  0.586364\n",
       "DUP1q21_1   0.531250  0.460938"
      ]
     },
     "execution_count": 100,
     "metadata": {},
     "output_type": "execute_result"
    }
   ],
   "source": [
    "results = pd.DataFrame([mean_acc_conf,mean_acc_conn],columns=cases,index=['conf','conn']).transpose()\n",
    "results"
   ]
  },
  {
   "cell_type": "code",
   "execution_count": 101,
   "metadata": {},
   "outputs": [
    {
     "data": {
      "text/plain": [
       "<matplotlib.legend.Legend at 0x7f95abab4e50>"
      ]
     },
     "execution_count": 101,
     "metadata": {},
     "output_type": "execute_result"
    },
    {
     "data": {
      "image/png": "[encoded data removed]",
      "text/plain": [
       "<Figure size 216x288 with 9 Axes>"
      ]
     },
     "metadata": {},
     "output_type": "display_data"
    }
   ],
   "source": [
    "fig,ax = plt.subplots(1,len(cases),figsize=(3,4),sharey=True,sharex=True)\n",
    "plt.yticks([0,0.1,0.2,0.3,0.4,0.5,0.6,0.7,0.8,0.9,1])\n",
    "plt.ylim(0,1)\n",
    "sns.set_style('whitegrid')\n",
    "\n",
    "for j,case in enumerate(cases):\n",
    "    conf_acc = results.loc[case,'conf']\n",
    "    conn_acc = results.loc[case,'conn']\n",
    "\n",
    "    #if conf_acc > conn_acc:\n",
    "    #    mfc = 'white'\n",
    "    #    ls =''\n",
    "    #else:\n",
    "    #    mfc = 'dodgerblue'\n",
    "    #    ls = '-'\n",
    "    #ax[j].plot(0,conn_acc,marker='o',color='dodgerblue',ms=4,markerfacecolor=mfc)\n",
    "    #ax[j].plot(0,conf_acc,marker='o',color='dodgerblue',ms=4,markerfacecolor=mfc)\n",
    "    ax[j].plot(0,conn_acc,marker='o',color='dodgerblue',ms=4,markerfacecolor='dodgerblue',label='conn')\n",
    "    ax[j].plot(0,conf_acc,marker='o',color='red',ms=4,markerfacecolor='red',label='conf')\n",
    "\n",
    "    #ax[j].plot((0,0),(conf,conn),color='dodgerblue',ls=ls)\n",
    "\n",
    "    ax[j].set_xticklabels([])\n",
    "    ax[j].set_xticks([])\n",
    "    ax[j].set_xlim(-0.1,0.1)\n",
    "    ax[j].set_ylim(0.4,0.85)\n",
    "\n",
    "    ax[j].set_xlabel(case,rotation=270)\n",
    "\n",
    "    lines = ax[j].get_ygridlines()\n",
    "    b = lines[5]\n",
    "    b.set_color('black')\n",
    "    b.set_linewidth(1.15)\n",
    "    b.set_linestyle('--')\n",
    "    fig.subplots_adjust(wspace=0)\n",
    "\n",
    "ax[4].set_title('kNN k=5')\n",
    "plt.legend()\n",
    "#plt.tight_layout()\n",
    "#plt.savefig('/home/harveyaa/Documents/masters/MTL/results/courtois_meeting/tasks_9/run1.png',dpi=300)"
   ]
  },
  {
   "cell_type": "code",
   "execution_count": null,
   "metadata": {},
   "outputs": [],
   "source": []
  }
 ],
 "metadata": {
  "interpreter": {
   "hash": "9e9c9c5c044d2ea5dfa7d6bd44b9f426810f06c0ed392c2b436f27e01061f47c"
  },
  "kernelspec": {
   "display_name": "Python 3.7.12 ('MTL')",
   "language": "python",
   "name": "python3"
  },
  "language_info": {
   "codemirror_mode": {
    "name": "ipython",
    "version": 3
   },
   "file_extension": ".py",
   "mimetype": "text/x-python",
   "name": "python",
   "nbconvert_exporter": "python",
   "pygments_lexer": "ipython3",
   "version": "3.7.12"
  },
  "orig_nbformat": 4
 },
 "nbformat": 4,
 "nbformat_minor": 2
}
